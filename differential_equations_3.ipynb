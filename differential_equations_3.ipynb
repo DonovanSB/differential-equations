{
 "cells": [
  {
   "cell_type": "code",
   "execution_count": 13,
   "metadata": {},
   "outputs": [],
   "source": [
    "# Aca resolvemos una ODE con condición inicial\n",
    "# Problema 2 del articulo\n",
    "# Artificial Neural Networks for Solving Ordinary and Partial Differential Equations"
   ]
  },
  {
   "attachments": {},
   "cell_type": "markdown",
   "metadata": {},
   "source": [
    "importamos los paquetes necesarios para el entrenamiento"
   ]
  },
  {
   "cell_type": "code",
   "execution_count": 14,
   "metadata": {},
   "outputs": [],
   "source": [
    "\n",
    "import torch\n",
    "import torch.nn as nn\n",
    "import matplotlib.pyplot as plt\n",
    "import numpy as np"
   ]
  },
  {
   "attachments": {},
   "cell_type": "markdown",
   "metadata": {},
   "source": [
    "Se resuelve la ecuación diferencial "
   ]
  },
  {
   "attachments": {},
   "cell_type": "markdown",
   "metadata": {},
   "source": [
    "\\begin{align}\n",
    "\\frac{d^2}{dx^2} \\psi(x) + \\frac{1}{5} \\frac{d}{dx} \\psi(x) + \\psi(x)&= -\\frac{1}{5} e^{-\\frac{x}{5}} \\cos(x) \\\\\n",
    "\\end{align}"
   ]
  },
  {
   "attachments": {},
   "cell_type": "markdown",
   "metadata": {},
   "source": [
    "definición de la arquitectura de la red neuronal"
   ]
  },
  {
   "cell_type": "code",
   "execution_count": 15,
   "metadata": {},
   "outputs": [],
   "source": [
    "class Model(nn.Module):\n",
    "    def __init__(self):\n",
    "        super(Model, self).__init__()\n",
    "        self.linear1 = nn.Linear(1, 50)\n",
    "        self.linear2 = nn.Linear(50, 124)\n",
    "        self.linear3 = nn.Linear(124, 256)\n",
    "        self.linear4 = nn.Linear(256, 512)\n",
    "        self.linear5 = nn.Linear(512, 1024)\n",
    "        self.linear6 = nn.Linear(1024, 1, bias=False)\n",
    "        self.sigmoid = nn.Sigmoid()\n",
    "\n",
    "    def forward(self, x):\n",
    "        x = self.linear1(x)\n",
    "        x = self.sigmoid(x)\n",
    "        x = self.linear2(x)\n",
    "        x = self.sigmoid(x)\n",
    "        x = self.linear3(x)\n",
    "        x = self.sigmoid(x)\n",
    "        x = self.linear4(x)\n",
    "        x = self.sigmoid(x)\n",
    "        x = self.linear5(x)\n",
    "        x = self.sigmoid(x)\n",
    "        x = self.linear6(x)\n",
    "        return x"
   ]
  },
  {
   "attachments": {},
   "cell_type": "markdown",
   "metadata": {},
   "source": [
    "Definición los modelos"
   ]
  },
  {
   "cell_type": "code",
   "execution_count": 16,
   "metadata": {},
   "outputs": [],
   "source": [
    "N = Model()\n",
    "N_bc = Model()"
   ]
  },
  {
   "attachments": {},
   "cell_type": "markdown",
   "metadata": {},
   "source": [
    "Para\n",
    "\n",
    "$\\psi_t(x) = x + x^2N$"
   ]
  },
  {
   "cell_type": "code",
   "execution_count": 17,
   "metadata": {},
   "outputs": [],
   "source": [
    "A = 0\n",
    "B = 1\n",
    "Psi_estimate = lambda x: A+ B*x + x**2*N(x)\n"
   ]
  },
  {
   "attachments": {},
   "cell_type": "markdown",
   "metadata": {},
   "source": [
    "Para\n",
    "\n",
    "$\\psi_t(x) = x\\sin(1)e^{-\\frac{1}{5}} + x(1-x)N$"
   ]
  },
  {
   "cell_type": "code",
   "execution_count": 18,
   "metadata": {},
   "outputs": [],
   "source": [
    "A_bc = 0\n",
    "B_bc = (torch.sin(torch.tensor(1))*torch.exp(torch.tensor(-1/5))).item()\n",
    "Psi_estimate_bc = lambda x: A_bc*(1 - x) + B_bc*x + x*(1 - x)*N_bc(x)"
   ]
  },
  {
   "cell_type": "code",
   "execution_count": 19,
   "metadata": {},
   "outputs": [],
   "source": [
    "# ahora definimos la funcion f(.)\n",
    "f1 = lambda Psi, dPsi: dPsi/5 + Psi\n",
    "f2 = lambda x: -torch.exp(-x/5)*torch.cos(x)/5"
   ]
  },
  {
   "cell_type": "code",
   "execution_count": 20,
   "metadata": {},
   "outputs": [],
   "source": [
    "def loss(x, y):\n",
    "    x.requires_grad = True\n",
    "    outputs = y(x)\n",
    "    Psi_estimate_x = torch.autograd.grad(outputs,x, grad_outputs=torch.ones_like(outputs),create_graph=True)[0] # esta es la derivada de Psi con respecto a x, i.e., dPsi/dx\n",
    "    dPsi_estimate_x = torch.autograd.grad(Psi_estimate_x,x, grad_outputs=torch.ones_like(Psi_estimate_x),create_graph=True)[0] # esta es la segunda derivada de Psi con respecto a x, i.e., d^2Psi/dx^2\n",
    "    return torch.mean((dPsi_estimate_x + f1(outputs, Psi_estimate_x) - f2(x))**2)\n"
   ]
  },
  {
   "cell_type": "code",
   "execution_count": 21,
   "metadata": {},
   "outputs": [],
   "source": [
    "optimizer = torch.optim.LBFGS(N.parameters())\n",
    "optimizer_bc = torch.optim.LBFGS(N_bc.parameters())"
   ]
  },
  {
   "cell_type": "code",
   "execution_count": 22,
   "metadata": {},
   "outputs": [],
   "source": [
    "x = torch.Tensor(np.linspace(0,2,100)[:,None])"
   ]
  },
  {
   "cell_type": "code",
   "execution_count": 23,
   "metadata": {},
   "outputs": [],
   "source": [
    "def closure():\n",
    "    optimizer.zero_grad()\n",
    "    l = loss(x, Psi_estimate)\n",
    "    l.backward()\n",
    "    return l\n",
    "\n",
    "def closure_bc():\n",
    "    optimizer_bc.zero_grad()\n",
    "    l = loss(x, Psi_estimate_bc)\n",
    "    l.backward()\n",
    "    return l\n",
    "\n",
    "for i in range(10):\n",
    "    optimizer.step(closure)\n",
    "    optimizer_bc.step(closure_bc)\n"
   ]
  },
  {
   "attachments": {},
   "cell_type": "markdown",
   "metadata": {},
   "source": [
    "### Comparación de resultados"
   ]
  },
  {
   "cell_type": "code",
   "execution_count": 24,
   "metadata": {},
   "outputs": [
    {
     "data": {
      "text/plain": [
       "<matplotlib.legend.Legend at 0x152aae59d60>"
      ]
     },
     "execution_count": 24,
     "metadata": {},
     "output_type": "execute_result"
    },
    {
     "data": {
      "image/png": "[encoded data removed]",
      "text/plain": [
       "<Figure size 640x480 with 1 Axes>"
      ]
     },
     "metadata": {},
     "output_type": "display_data"
    }
   ],
   "source": [
    "xx = np.linspace(0,2,100)[:,None]\n",
    "\n",
    "with torch.no_grad():\n",
    "    yy = Psi_estimate(torch.Tensor(xx)).numpy()\n",
    "    yy_bc = Psi_estimate_bc(torch.Tensor(xx)).numpy()\n",
    "    \n",
    "yt = np.exp(-xx/5)*np.sin(xx)\n",
    "\n",
    "fig, ax = plt.subplots(dpi=100)\n",
    "ax.plot(xx,yt,label='True')\n",
    "ax.plot(xx,yy,'--',label='Neural network approximation')\n",
    "ax.plot(xx,yy_bc,'--',label='Neural network approximation with boundary conditions')\n",
    "ax.set_xlabel('$x$')\n",
    "ax.set_ylabel('$\\Psi(x)$')\n",
    "plt.legend(loc='best')"
   ]
  },
  {
   "cell_type": "code",
   "execution_count": null,
   "metadata": {},
   "outputs": [],
   "source": []
  }
 ],
 "metadata": {
  "kernelspec": {
   "display_name": "Python 3",
   "language": "python",
   "name": "python3"
  },
  "language_info": {
   "codemirror_mode": {
    "name": "ipython",
    "version": 3
   },
   "file_extension": ".py",
   "mimetype": "text/x-python",
   "name": "python",
   "nbconvert_exporter": "python",
   "pygments_lexer": "ipython3",
   "version": "3.9.13"
  }
 },
 "nbformat": 4,
 "nbformat_minor": 2
}
