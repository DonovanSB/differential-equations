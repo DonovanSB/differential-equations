{
 "cells": [
  {
   "cell_type": "code",
   "execution_count": 1,
   "metadata": {},
   "outputs": [],
   "source": [
    "# Aca resolvemos una ODE con condición inicial\n",
    "# Problema 2 del articulo\n",
    "# Artificial Neural Networks for Solving Ordinary and Partial Differential Equations"
   ]
  },
  {
   "attachments": {},
   "cell_type": "markdown",
   "metadata": {},
   "source": [
    "importamos los paquetes necesarios para el entrenamiento"
   ]
  },
  {
   "cell_type": "code",
   "execution_count": 2,
   "metadata": {},
   "outputs": [
    {
     "name": "stderr",
     "output_type": "stream",
     "text": [
      "c:\\Users\\Donovan\\anaconda3\\envs\\pytorch\\lib\\site-packages\\tqdm\\auto.py:22: TqdmWarning: IProgress not found. Please update jupyter and ipywidgets. See https://ipywidgets.readthedocs.io/en/stable/user_install.html\n",
      "  from .autonotebook import tqdm as notebook_tqdm\n"
     ]
    }
   ],
   "source": [
    "\n",
    "import torch\n",
    "import torch.nn as nn\n",
    "import matplotlib.pyplot as plt\n",
    "import numpy as np"
   ]
  },
  {
   "attachments": {},
   "cell_type": "markdown",
   "metadata": {},
   "source": [
    "Se resuelve la ecuación diferencial "
   ]
  },
  {
   "attachments": {},
   "cell_type": "markdown",
   "metadata": {},
   "source": [
    "\\begin{align}\n",
    "\\frac{d}{dx}\\psi_1 &= \\cos(x) + \\psi_1^2 + \\psi_2 - (1 + x^2 + \\sin^2(x)) \\\\\n",
    "\\frac{d}{dx}\\psi_2 &= 2x - (1 + x^2)\\sin(x) + \\psi_1\\psi_2\n",
    "\\end{align}"
   ]
  },
  {
   "attachments": {},
   "cell_type": "markdown",
   "metadata": {},
   "source": [
    "definición de la arquitectura de la red neuronal"
   ]
  },
  {
   "cell_type": "code",
   "execution_count": 3,
   "metadata": {},
   "outputs": [],
   "source": [
    "class Model(nn.Module):\n",
    "    def __init__(self):\n",
    "        super(Model, self).__init__()\n",
    "        self.linear1 = nn.Linear(1, 64)\n",
    "        self.linear2 = nn.Linear(64, 124)\n",
    "        self.linear3 = nn.Linear(124, 256)\n",
    "        self.linear4 = nn.Linear(256, 1, bias=False)\n",
    "        self.sigmoid = nn.Sigmoid()\n",
    "\n",
    "    def forward(self, x):\n",
    "        x = self.linear1(x)\n",
    "        x = self.sigmoid(x)\n",
    "        x = self.linear2(x)\n",
    "        x = self.sigmoid(x)\n",
    "        x = self.linear3(x)\n",
    "        x = self.sigmoid(x)\n",
    "        x = self.linear4(x)\n",
    "        return x"
   ]
  },
  {
   "attachments": {},
   "cell_type": "markdown",
   "metadata": {},
   "source": [
    "Definición los modelos"
   ]
  },
  {
   "cell_type": "code",
   "execution_count": 4,
   "metadata": {},
   "outputs": [],
   "source": [
    "N_1 = Model()\n",
    "N_2 = Model()"
   ]
  },
  {
   "attachments": {},
   "cell_type": "markdown",
   "metadata": {},
   "source": [
    "Para\n",
    "\n",
    "$\\psi_{t_1}(x) = xN_1$"
   ]
  },
  {
   "cell_type": "code",
   "execution_count": 5,
   "metadata": {},
   "outputs": [],
   "source": [
    "A_1 = 0\n",
    "Psi_estimate_1 = lambda x: A_1 + x*N_1(x)\n"
   ]
  },
  {
   "attachments": {},
   "cell_type": "markdown",
   "metadata": {},
   "source": [
    "Para\n",
    "\n",
    "$\\psi_{t_2}(x) = 1 + xN_2$"
   ]
  },
  {
   "cell_type": "code",
   "execution_count": 6,
   "metadata": {},
   "outputs": [],
   "source": [
    "A_2 = 1\n",
    "Psi_estimate_2 = lambda x: A_2 + x*N_2(x)"
   ]
  },
  {
   "cell_type": "code",
   "execution_count": 7,
   "metadata": {},
   "outputs": [],
   "source": [
    "# ahora definimos la función f(.)\n",
    "f1 = lambda x, Psi_1, Psi_2: torch.cos(x) + Psi_1**2 + Psi_2 - (1 + x**2 + torch.sin(x)**2)\n",
    "f2 = lambda x, Psi_1, Psi_2: 2*x - (1 + x**2)*torch.sin(x) + Psi_1*Psi_2"
   ]
  },
  {
   "cell_type": "code",
   "execution_count": 8,
   "metadata": {},
   "outputs": [],
   "source": [
    "def loss(x):\n",
    "    x.requires_grad = True\n",
    "    outputs_1 = Psi_estimate_1(x)\n",
    "    outputs_2 = Psi_estimate_2(x)\n",
    "    Psi_estimate_x_1 = torch.autograd.grad(\n",
    "                        outputs_1,x, \n",
    "                        grad_outputs=torch.ones_like(outputs_1),\n",
    "                        create_graph=True)[0] # esta es la derivada de Psi con respecto a x, i.e., dPsi/dx\n",
    "    Psi_estimate_x_2 = torch.autograd.grad(\n",
    "                        outputs_2,x, \n",
    "                        grad_outputs=torch.ones_like(outputs_2)\n",
    "                        ,create_graph=True)[0] # esta es la derivada de Psi con respecto a x, i.e., dPsi/dx\n",
    "    return (torch.mean((Psi_estimate_x_1 - f1(x, outputs_1, outputs_2))**2) \n",
    "            + torch.mean((Psi_estimate_x_2 - f2(x, outputs_1, outputs_2))**2))\n"
   ]
  },
  {
   "cell_type": "code",
   "execution_count": 9,
   "metadata": {},
   "outputs": [],
   "source": [
    "optimizer = torch.optim.Adam(list(N_1.parameters()) + list(N_2.parameters()), lr=0.01)"
   ]
  },
  {
   "cell_type": "code",
   "execution_count": 10,
   "metadata": {},
   "outputs": [],
   "source": [
    "x = torch.Tensor(np.linspace(0,3,100)[:,None])"
   ]
  },
  {
   "cell_type": "code",
   "execution_count": 11,
   "metadata": {},
   "outputs": [],
   "source": [
    "def closure():\n",
    "    optimizer.zero_grad()\n",
    "    l = loss(x)\n",
    "    l.backward()\n",
    "    return l\n",
    "\n",
    "for i in range(1000):\n",
    "    optimizer.step(closure)"
   ]
  },
  {
   "attachments": {},
   "cell_type": "markdown",
   "metadata": {},
   "source": [
    "### Comparación de resultados"
   ]
  },
  {
   "cell_type": "code",
   "execution_count": 13,
   "metadata": {},
   "outputs": [
    {
     "data": {
      "text/plain": [
       "<matplotlib.legend.Legend at 0x1fb4e2d4460>"
      ]
     },
     "execution_count": 13,
     "metadata": {},
     "output_type": "execute_result"
    },
    {
     "data": {
      "image/png": "[encoded data removed]",
      "text/plain": [
       "<Figure size 640x480 with 1 Axes>"
      ]
     },
     "metadata": {},
     "output_type": "display_data"
    }
   ],
   "source": [
    "xx = np.linspace(0,3,100)[:,None]\n",
    "\n",
    "with torch.no_grad():\n",
    "    yy_1 = Psi_estimate_1(torch.Tensor(xx)).numpy()\n",
    "    yy_2 = Psi_estimate_2(torch.Tensor(xx)).numpy()\n",
    "    \n",
    "yt_1 = np.sin(xx)\n",
    "yt_2 = 1 + xx**2\n",
    "\n",
    "fig, ax = plt.subplots(dpi=100)\n",
    "ax.plot(xx,yt_1,label='True 1')\n",
    "ax.plot(xx,yt_2,label='True 2')\n",
    "ax.plot(xx,yy_1,'--',label='Estimate 1')\n",
    "ax.plot(xx,yy_2,'--',label='Estimate 2')\n",
    "ax.set_xlabel('$x$')\n",
    "ax.set_ylabel('$\\Psi(x)$')\n",
    "plt.legend(loc='best')"
   ]
  },
  {
   "cell_type": "code",
   "execution_count": null,
   "metadata": {},
   "outputs": [],
   "source": []
  }
 ],
 "metadata": {
  "kernelspec": {
   "display_name": "Python 3",
   "language": "python",
   "name": "python3"
  },
  "language_info": {
   "codemirror_mode": {
    "name": "ipython",
    "version": 3
   },
   "file_extension": ".py",
   "mimetype": "text/x-python",
   "name": "python",
   "nbconvert_exporter": "python",
   "pygments_lexer": "ipython3",
   "version": "3.9.13"
  }
 },
 "nbformat": 4,
 "nbformat_minor": 2
}
